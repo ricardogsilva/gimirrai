{
 "cells": [
  {
   "cell_type": "markdown",
   "id": "ea22389f-bccb-4e28-aa85-783f365c1488",
   "metadata": {},
   "source": [
    "# pillow-heif tests\n",
    "\n",
    "This notebook contains some explorations with [pillow-heif](https://pillow-heif.readthedocs.io/en/latest/index.html)"
   ]
  },
  {
   "cell_type": "code",
   "execution_count": 12,
   "id": "79ff8856-67f1-4b31-8464-94613cd6a6f3",
   "metadata": {},
   "outputs": [],
   "source": [
    "from pathlib import Path\n",
    "\n",
    "import numpy as np\n",
    "import pillow_heif\n",
    "\n",
    "SAMPLE_DATA_DIR = Path(\"/opt/dev/code-sprint-22-ngiis/GIMI Test Images\")"
   ]
  },
  {
   "cell_type": "code",
   "execution_count": 11,
   "id": "faa0f0b5-4b97-4139-801c-c96da6b405be",
   "metadata": {},
   "outputs": [
    {
     "name": "stdout",
     "output_type": "stream",
     "text": [
      "HEIF file '/opt/dev/code-sprint-22-ngiis/GIMI Test Images/gimi_1_sentinel_hevc.heif'\n",
      "supported: True\n",
      "Number of images contained in the file: 1\n",
      "image 0: <HeifImage 342x342 RGB with no image data and 0 thumbnails>\n"
     ]
    }
   ],
   "source": [
    "sample1 = SAMPLE_DATA_DIR / \"gimi_1_sentinel_hevc.heif\"\n",
    "\n",
    "print(f\"HEIF file {str(sample1)!r}\")\n",
    "print(f\"supported: {pillow_heif.is_supported(sample1)}\")\n",
    "\n",
    "heif_file = pillow_heif.open_heif(sample1)\n",
    "\n",
    "print(f\"Number of images contained in the file: {len(heif_file)}\")\n",
    "\n",
    "for index, img in enumerate(heif_file):\n",
    "    print(f\"image {index}: {img}\") "
   ]
  },
  {
   "cell_type": "markdown",
   "id": "c0102088-8e2c-4079-bc9d-d2905c968e1a",
   "metadata": {},
   "source": [
    "### img.data\n",
    "\n",
    "The `data` property of an image returns a [memoryview](https://docs.python.org/3/library/stdtypes.html#memoryview)"
   ]
  },
  {
   "cell_type": "code",
   "execution_count": 16,
   "id": "da0b07b7-903c-4471-abe5-1e8d0fb28361",
   "metadata": {},
   "outputs": [
    {
     "name": "stdout",
     "output_type": "stream",
     "text": [
      "<class 'memoryview'>\n"
     ]
    }
   ],
   "source": [
    "data_ = heif_file[0].data\n",
    "print(type(data_))"
   ]
  },
  {
   "cell_type": "markdown",
   "id": "fb617dda-db08-4573-b4ac-fb0701a962d5",
   "metadata": {},
   "source": [
    "### Converting to a numpy array\n",
    "\n",
    "`np.as_array` can be used to get a numpy array with the data too."
   ]
  },
  {
   "cell_type": "code",
   "execution_count": 20,
   "id": "3a09eced-9b2f-4f23-b2c3-c8fa18f89677",
   "metadata": {
    "scrolled": true
   },
   "outputs": [
    {
     "name": "stdout",
     "output_type": "stream",
     "text": [
      "[[[ 86  96 108]\n",
      "  [ 57  67  79]\n",
      "  [ 43  53  65]\n",
      "  ...\n",
      "  [ 53  72  78]\n",
      "  [ 49  68  74]\n",
      "  [ 48  67  73]]\n",
      "\n",
      " [[ 56  66  78]\n",
      "  [ 85  95 107]\n",
      "  [ 88  98 110]\n",
      "  ...\n",
      "  [ 51  70  76]\n",
      "  [ 50  69  75]\n",
      "  [ 51  70  76]]\n",
      "\n",
      " [[ 81  87 101]\n",
      "  [ 82  88 102]\n",
      "  [ 81  87 101]\n",
      "  ...\n",
      "  [ 52  67  74]\n",
      "  [ 55  70  77]\n",
      "  [ 59  74  81]]\n",
      "\n",
      " ...\n",
      "\n",
      " [[ 36  43  59]\n",
      "  [ 47  54  70]\n",
      "  [ 71  78  94]\n",
      "  ...\n",
      "  [ 43  76  95]\n",
      "  [ 44  75  93]\n",
      "  [ 44  75  93]]\n",
      "\n",
      " [[ 63  70  86]\n",
      "  [ 47  54  70]\n",
      "  [ 38  45  61]\n",
      "  ...\n",
      "  [ 43  76  95]\n",
      "  [ 44  75  95]\n",
      "  [ 44  75  95]]\n",
      "\n",
      " [[ 41  48  64]\n",
      "  [ 42  49  65]\n",
      "  [ 59  66  82]\n",
      "  ...\n",
      "  [ 43  76  95]\n",
      "  [ 44  75  95]\n",
      "  [ 44  75  95]]]\n"
     ]
    }
   ],
   "source": [
    "arr1 = np.asarray(heif_file[0])\n",
    "print(arr1)"
   ]
  },
  {
   "cell_type": "markdown",
   "id": "93f1ef5b-12d1-4fcf-8e70-4b0d06850259",
   "metadata": {},
   "source": [
    "### Inspecting metatada\n",
    "\n",
    "Metadata seems to be shown by accessing the `info` property on one of the images. \n",
    "\n",
    "There does not seem to be a way to access general file-related metadata"
   ]
  },
  {
   "cell_type": "code",
   "execution_count": 21,
   "id": "df5d3474-57a5-4d8d-b3c7-808db175bd5f",
   "metadata": {},
   "outputs": [
    {
     "data": {
      "text/plain": [
       "{'primary': True,\n",
       " 'bit_depth': 8,\n",
       " 'exif': None,\n",
       " 'xmp': None,\n",
       " 'metadata': [{'type': 'uri ',\n",
       "   'content_type': '',\n",
       "   'data': b\"\\x02\\x08\\x00\\x06\\x05c\\xae'\\xa9.\\x03AS2A_MSIL1C_20230915T105701_N0509_R094_T30UYC_20230915T131504.SAFER\\x04Jf\\xf5\\xbbS\\x04\\xff\\xf3\\xeaET\\x04Jf\\xf5\\xbbU\\x04\\x01\\x06\\x86\\x82V\\x04H\\xee\\x16>W\\x04\\x01\\x06\\x86\\x82X\\x04H\\xee\\x16>Y\\x04\\xff\\xf3\\xeaEA\\x01\\x13\\x01\\x02n\\xda\"}],\n",
       " 'thumbnails': [],\n",
       " 'depth_images': []}"
      ]
     },
     "execution_count": 21,
     "metadata": {},
     "output_type": "execute_result"
    }
   ],
   "source": [
    "heif_file[0].info"
   ]
  },
  {
   "cell_type": "code",
   "execution_count": 24,
   "id": "33185e1b-7c4a-4769-b7be-3f36dcd019ee",
   "metadata": {},
   "outputs": [
    {
     "data": {
      "text/plain": [
       "b\"\\x02\\x08\\x00\\x06\\x05c\\xae'\\xa9.\\x03AS2A_MSIL1C_20230915T105701_N0509_R094_T30UYC_20230915T131504.SAFER\\x04Jf\\xf5\\xbbS\\x04\\xff\\xf3\\xeaET\\x04Jf\\xf5\\xbbU\\x04\\x01\\x06\\x86\\x82V\\x04H\\xee\\x16>W\\x04\\x01\\x06\\x86\\x82X\\x04H\\xee\\x16>Y\\x04\\xff\\xf3\\xeaEA\\x01\\x13\\x01\\x02n\\xda\""
      ]
     },
     "execution_count": 24,
     "metadata": {},
     "output_type": "execute_result"
    }
   ],
   "source": [
    "heif_file[0].info[\"metadata\"][0][\"data\"]"
   ]
  },
  {
   "cell_type": "code",
   "execution_count": 27,
   "id": "999f52ca",
   "metadata": {},
   "outputs": [],
   "source": [
    "ba = bytearray(heif_file[0].info[\"metadata\"][0][\"data\"])"
   ]
  },
  {
   "cell_type": "code",
   "execution_count": 30,
   "id": "5f31996f-51db-4da7-8348-e2aaaaa35025",
   "metadata": {},
   "outputs": [
    {
     "data": {
      "text/plain": [
       "\u001b[0;31mSignature:\u001b[0m \u001b[0mchr\u001b[0m\u001b[0;34m(\u001b[0m\u001b[0mi\u001b[0m\u001b[0;34m,\u001b[0m \u001b[0;34m/\u001b[0m\u001b[0;34m)\u001b[0m\u001b[0;34m\u001b[0m\u001b[0;34m\u001b[0m\u001b[0m\n",
       "\u001b[0;31mDocstring:\u001b[0m Return a Unicode string of one character with ordinal i; 0 <= i <= 0x10ffff.\n",
       "\u001b[0;31mType:\u001b[0m      builtin_function_or_method"
      ]
     },
     "metadata": {},
     "output_type": "display_data"
    }
   ],
   "source": [
    "chr?"
   ]
  }
 ],
 "metadata": {
  "kernelspec": {
   "display_name": "Python 3 (ipykernel)",
   "language": "python",
   "name": "python3"
  },
  "language_info": {
   "codemirror_mode": {
    "name": "ipython",
    "version": 3
   },
   "file_extension": ".py",
   "mimetype": "text/x-python",
   "name": "python",
   "nbconvert_exporter": "python",
   "pygments_lexer": "ipython3",
   "version": "3.10.12"
  }
 },
 "nbformat": 4,
 "nbformat_minor": 5
}
