{
 "cells": [
  {
   "cell_type": "markdown",
   "id": "fb79d768-a583-45a2-83fa-abede82178f5",
   "metadata": {},
   "source": [
    "# Decoding GIMI file KLV metadata"
   ]
  },
  {
   "cell_type": "code",
   "execution_count": 1,
   "id": "1a0e8b5c-09b2-4a6b-af67-82926ad0651a",
   "metadata": {},
   "outputs": [],
   "source": [
    "import dataclasses\n",
    "from pathlib import Path\n",
    "\n",
    "import pillow_heif\n",
    "\n",
    "from gimirrai.decoders import klv\n",
    "\n",
    "SAMPLE_DIR = Path(\"/home/ubuntu/dev/code-sprint-22-ngiis/GIMI Test Images\")\n",
    "sample1 = SAMPLE_DIR / \"gimi_1_sentinel_hevc.heif\"\n",
    "\n",
    "ds = pillow_heif.open_heif(sample1)"
   ]
  },
  {
   "cell_type": "code",
   "execution_count": 2,
   "id": "2e74879d-b3c2-45d3-98aa-264abee47c0b",
   "metadata": {},
   "outputs": [
    {
     "data": {
      "text/plain": [
       "{'title': 'S2A_MSIL1C_20230915T105701_N0509_R094_T30UYC_20230915T131504.SAFE',\n",
       " 'begin_position': datetime.datetime(2023, 9, 15, 10, 59, 1, 999918, tzinfo=datetime.timezone.utc),\n",
       " 'upper_left_lon': 359.9336159135837,\n",
       " 'upper_left_lat': 52.314037793462184,\n",
       " 'lower_right_lon': 1.4420952095846158,\n",
       " 'lower_right_lat': 51.27892518009941}"
      ]
     },
     "execution_count": 2,
     "metadata": {},
     "output_type": "execute_result"
    }
   ],
   "source": [
    "meta = klv.get_metadata(ds[0])\n",
    "dataclasses.asdict(meta)"
   ]
  },
  {
   "cell_type": "code",
   "execution_count": null,
   "id": "9ca71234-eb33-4597-977a-04af216e0ec9",
   "metadata": {},
   "outputs": [],
   "source": []
  }
 ],
 "metadata": {
  "kernelspec": {
   "display_name": "Python 3 (ipykernel)",
   "language": "python",
   "name": "python3"
  },
  "language_info": {
   "codemirror_mode": {
    "name": "ipython",
    "version": 3
   },
   "file_extension": ".py",
   "mimetype": "text/x-python",
   "name": "python",
   "nbconvert_exporter": "python",
   "pygments_lexer": "ipython3",
   "version": "3.10.12"
  }
 },
 "nbformat": 4,
 "nbformat_minor": 5
}
